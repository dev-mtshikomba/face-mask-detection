{
  "nbformat": 4,
  "nbformat_minor": 0,
  "metadata": {
    "colab": {
      "name": "Face Mask Detection.ipynb",
      "provenance": [],
      "collapsed_sections": [],
      "toc_visible": true,
      "machine_shape": "hm"
    },
    "kernelspec": {
      "name": "python3",
      "display_name": "Python 3"
    },
    "accelerator": "GPU"
  },
  "cells": [
    {
      "cell_type": "markdown",
      "metadata": {
        "id": "bI3E_-4JhRT3"
      },
      "source": [
        "Packages Installation"
      ]
    },
    {
      "cell_type": "markdown",
      "metadata": {
        "id": "wdJIKsUJMh0l"
      },
      "source": [
        "# Code"
      ]
    },
    {
      "cell_type": "markdown",
      "metadata": {
        "id": "IDWzPwIMi1nA"
      },
      "source": [
        "***Clone Repo***"
      ]
    },
    {
      "cell_type": "code",
      "metadata": {
        "colab": {
          "base_uri": "https://localhost:8080/"
        },
        "id": "Vi6DsE4zf1SX",
        "outputId": "994fda79-1d2e-4c27-e40f-6c1b349513f4"
      },
      "source": [
        "!git clone https://github.com/ultralytics/yolov5"
      ],
      "execution_count": 1,
      "outputs": [
        {
          "output_type": "stream",
          "text": [
            "Cloning into 'yolov5'...\n",
            "remote: Enumerating objects: 36, done.\u001b[K\n",
            "remote: Counting objects: 100% (36/36), done.\u001b[K\n",
            "remote: Compressing objects: 100% (28/28), done.\u001b[K\n",
            "remote: Total 3319 (delta 17), reused 18 (delta 8), pack-reused 3283\u001b[K\n",
            "Receiving objects: 100% (3319/3319), 6.52 MiB | 24.27 MiB/s, done.\n",
            "Resolving deltas: 100% (2201/2201), done.\n"
          ],
          "name": "stdout"
        }
      ]
    },
    {
      "cell_type": "markdown",
      "metadata": {
        "id": "OUsY2WgLMk6E"
      },
      "source": [
        "# Data"
      ]
    },
    {
      "cell_type": "markdown",
      "metadata": {
        "id": "DObff7Jft2FG"
      },
      "source": [
        "**Download The Dataset**"
      ]
    },
    {
      "cell_type": "code",
      "metadata": {
        "id": "CQGm6N1MVEeN"
      },
      "source": [
        "!curl -L \"https://app.roboflow.com/ds/pnQBr2ENzz?key=Ze0wJvJgk7\" > roboflow.zip; unzip roboflow.zip; rm roboflow.zip"
      ],
      "execution_count": null,
      "outputs": []
    },
    {
      "cell_type": "code",
      "metadata": {
        "id": "q800zy46xbzC"
      },
      "source": [
        "!echo \"train: train \\nval: valid \\ntest: test \\n\\nnc: 2 \\nnames: ['no_mask', 'mask']\" > data.yaml"
      ],
      "execution_count": 3,
      "outputs": []
    },
    {
      "cell_type": "markdown",
      "metadata": {
        "id": "2u6Y5vRBM0IL"
      },
      "source": [
        "# Packaging"
      ]
    },
    {
      "cell_type": "markdown",
      "metadata": {
        "id": "4wtLeb5CsbOl"
      },
      "source": [
        "***Install Conda***"
      ]
    },
    {
      "cell_type": "code",
      "metadata": {
        "colab": {
          "base_uri": "https://localhost:8080/"
        },
        "id": "ABE2m7y5sfbB",
        "outputId": "548a6a70-2c50-454a-a4c4-971eeea54ecc"
      },
      "source": [
        "%env PYTHONPATH="
      ],
      "execution_count": 4,
      "outputs": [
        {
          "output_type": "stream",
          "text": [
            "env: PYTHONPATH=\n"
          ],
          "name": "stdout"
        }
      ]
    },
    {
      "cell_type": "code",
      "metadata": {
        "id": "ejd21c7ss5bS"
      },
      "source": [
        "%%bash\r\n",
        "MINICONDA_INSTALLER_SCRIPT=Miniconda3-4.5.4-Linux-x86_64.sh\r\n",
        "MINICONDA_PREFIX=/usr/local\r\n",
        "wget https://repo.continuum.io/miniconda/$MINICONDA_INSTALLER_SCRIPT\r\n",
        "chmod +x $MINICONDA_INSTALLER_SCRIPT\r\n",
        "./$MINICONDA_INSTALLER_SCRIPT -b -f -p $MINICONDA_PREFIX"
      ],
      "execution_count": null,
      "outputs": []
    },
    {
      "cell_type": "code",
      "metadata": {
        "id": "MIZE2cKItGG2"
      },
      "source": [
        "%%bash\r\n",
        "conda install --channel defaults conda python=3.6 --yes\r\n",
        "conda update --channel defaults --all --yes"
      ],
      "execution_count": null,
      "outputs": []
    },
    {
      "cell_type": "code",
      "metadata": {
        "id": "FygVCRe9tRqQ"
      },
      "source": [
        "import sys\r\n",
        "_ = (sys.path\r\n",
        "        .append(\"/usr/local/lib/python3.6/site-packages\"))"
      ],
      "execution_count": 7,
      "outputs": []
    },
    {
      "cell_type": "code",
      "metadata": {
        "id": "Y3zvKVF4vygZ"
      },
      "source": [
        "!pip install -U -r yolov5/requirements.txt"
      ],
      "execution_count": null,
      "outputs": []
    },
    {
      "cell_type": "code",
      "metadata": {
        "id": "pESdUi7ballh"
      },
      "source": [
        "!pip install pyyaml ipykernel"
      ],
      "execution_count": null,
      "outputs": []
    },
    {
      "cell_type": "code",
      "metadata": {
        "id": "_XcGveOEETbQ"
      },
      "source": [
        "!conda install pytorch torchvision torchaudio cudatoolkit=10.1 -c pytorch --yes"
      ],
      "execution_count": null,
      "outputs": []
    },
    {
      "cell_type": "markdown",
      "metadata": {
        "id": "w8SQdQFnNDFS"
      },
      "source": [
        "# Data Cleaning"
      ]
    },
    {
      "cell_type": "markdown",
      "metadata": {
        "id": "UvUPQDM8ZHgm"
      },
      "source": [
        "**Here we update the annotation files by removing the not wearing the mask properly**"
      ]
    },
    {
      "cell_type": "code",
      "metadata": {
        "id": "Fogq5v0aW42V"
      },
      "source": [
        "import os\r\n",
        "import re\r\n",
        "\r\n",
        "for folder in ['train', 'valid', 'test']:\r\n",
        "    file_list = os.listdir(f'./{folder}')\r\n",
        "    for file in file_list:\r\n",
        "        if not file.endswith('.txt'):\r\n",
        "            continue\r\n",
        "        with open(f'./{folder}/{file}', 'r+') as f:\r\n",
        "            lines = f.read()\r\n",
        "            replaced = re.sub(r'0(?=\\s\\d+\\.\\d+){4}', '1', lines)\r\n",
        "            replaced = re.sub(r'2(?=\\s\\d+\\.\\d+){4}', '0', lines)\r\n",
        "            f.seek(0)\r\n",
        "            f.write(replaced)\r\n",
        "            f.truncate()"
      ],
      "execution_count": 11,
      "outputs": []
    },
    {
      "cell_type": "markdown",
      "metadata": {
        "id": "9hQj9WVIN2L3"
      },
      "source": [
        "# Model Training"
      ]
    },
    {
      "cell_type": "markdown",
      "metadata": {
        "id": "rI3fW4uXiOE6"
      },
      "source": [
        "***Training***"
      ]
    },
    {
      "cell_type": "code",
      "metadata": {
        "id": "-kUtBcu1r_cw"
      },
      "source": [
        "!python ./yolov5/train.py --img 416 --batch 16 --epochs 150 --data data.yaml --cfg yolov5s.yaml --weights ‘’ --name robo4_epoch150_s --adam"
      ],
      "execution_count": null,
      "outputs": []
    }
  ]
}